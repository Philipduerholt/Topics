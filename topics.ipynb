{
 "cells": [
  {
   "cell_type": "markdown",
   "metadata": {},
   "source": [
    "# Topics - Easy Topic Modeling in Python\n",
    "\n",
    "This notebook introduces a workflow using the text mining technique **Topic Modeling**. The Python library [**gensim**](http://radimrehurek.com/gensim/), an open-source vector space modeling and topic modeling toolkit, offers one reliable way to compute the abstract topics of a collection of documents using [LDA](https://en.wikipedia.org/wiki/Latent_Dirichlet_allocation), a generative statistical model. \n",
    "\n",
    "\"Topic models are algorithms for discovering the main themes that pervade a large and otherwise unstructured collection of documents. Topic models can organize the collection according to the discovered themes.\" ([Blei 2012: 77](https://www.cs.princeton.edu/~blei/papers/Blei2012.pdf))\n",
    "\n",
    "Some parts of the following code is heavily inspired by the [gensim tutorial](https://radimrehurek.com/gensim/tutorial.html)."
   ]
  },
  {
   "cell_type": "markdown",
   "metadata": {},
   "source": [
    "### 1. Prearrangement"
   ]
  },
  {
   "cell_type": "markdown",
   "metadata": {},
   "source": [
    "First of all you have to import **topics.py** into your Jupyter notebook, which contains the actual magic: several functions from reading and preparing a collection of documents, creating a model to finally visualizing it.\n",
    "\n",
    "As a first step, simply run the following statement. The first line imports topics.py, the second line makes sure that graphs (created by matplotlib) will be displayed within your Jupyter notebook."
   ]
  },
  {
   "cell_type": "code",
   "execution_count": 1,
   "metadata": {
    "collapsed": false
   },
   "outputs": [],
   "source": [
    "import topics as tp\n",
    "\n",
    "%matplotlib inline"
   ]
  },
  {
   "cell_type": "markdown",
   "metadata": {},
   "source": [
    "To work efficiently with this notebook you should have installed three packages separately, namely **[numpy](http://www.numpy.org)**, **[matplotlib](http://matplotlib.org)** and **[gensim](http://radimrehurek.com/gensim/)**. If you are not sure whether everything is installed correctly or not, use the following statement:"
   ]
  },
  {
   "cell_type": "code",
   "execution_count": null,
   "metadata": {
    "collapsed": true
   },
   "outputs": [],
   "source": [
    "tp.testing()"
   ]
  },
  {
   "cell_type": "markdown",
   "metadata": {},
   "source": [
    "In case you get\n",
    "\n",
    "`1.11.0`\n",
    "\n",
    "`1.5.1`\n",
    "\n",
    "`0.12.4`\n",
    "\n",
    "everything works out just fine. The output stands for the version of numpy, matplotlib and gensim in this order."
   ]
  },
  {
   "cell_type": "markdown",
   "metadata": {},
   "source": [
    "### 2. Reading documents "
   ]
  },
  {
   "cell_type": "markdown",
   "metadata": {},
   "source": [
    "Let's start reading text files from a folder. The folder **corpus** within **Topics** contains a collection of short stories saved as [plain text](https://en.wikipedi.org/wiki/Plain_text). In case you have your own collection, feel free to set the variable `folder` to the respective path, e. g. `folder = '/users/mycollection/*.txt'`. Be aware of forgetting \"`/*.txt`\" at the end!\n",
    "\n",
    "**Note**: Every file has to be saved as plain text."
   ]
  },
  {
   "cell_type": "code",
   "execution_count": 2,
   "metadata": {
    "collapsed": false
   },
   "outputs": [],
   "source": [
    "folder = './corpus/*.txt'"
   ]
  },
  {
   "cell_type": "markdown",
   "metadata": {},
   "source": [
    "To use the first function `tp.readCorpus`, which is reading and saving the content of every single document in a [list](https://docs.python.org/3/tutorial/datastructures.html), run the following statement:"
   ]
  },
  {
   "cell_type": "code",
   "execution_count": 3,
   "metadata": {
    "collapsed": true
   },
   "outputs": [],
   "source": [
    "documents = tp.readCorpus(folder)"
   ]
  },
  {
   "cell_type": "markdown",
   "metadata": {},
   "source": [
    "Storing the file names as document labels in a separate list:"
   ]
  },
  {
   "cell_type": "code",
   "execution_count": 4,
   "metadata": {
    "collapsed": false
   },
   "outputs": [
    {
     "data": {
      "text/plain": [
       "['Doyle_AScandalinBohemia',\n",
       " 'Doyle_AStudyinScarlet',\n",
       " 'Doyle_TheHoundoftheBaskervilles',\n",
       " 'Doyle_TheSignoftheFour',\n",
       " 'Howard_GodsoftheNorth',\n",
       " 'Howard_SchadowsinZamboula',\n",
       " 'Howard_ShadowsintheMoonlight',\n",
       " 'Howard_TheDevilinIron',\n",
       " 'Kipling_TheEndofthePassage',\n",
       " 'Kipling_TheJungleBook',\n",
       " 'Kipling_ThyServantaDog',\n",
       " 'Lovecraft_AttheMountainofMadness',\n",
       " 'Lovecraft_TheShunnedHouse',\n",
       " 'Poe_EurekaAProsePoem',\n",
       " 'Poe_TheCaskofAmontillado',\n",
       " 'Poe_TheMasqueoftheRedDeath',\n",
       " 'Poe_ThePurloinedLetter']"
      ]
     },
     "execution_count": 4,
     "metadata": {},
     "output_type": "execute_result"
    }
   ],
   "source": [
    "doc_labels = tp.docLabels(folder)\n",
    "doc_labels"
   ]
  },
  {
   "cell_type": "markdown",
   "metadata": {},
   "source": [
    "**Hint**: If you are interested in a single function, try using `help()` as in the following block demonstrated."
   ]
  },
  {
   "cell_type": "code",
   "execution_count": 5,
   "metadata": {
    "collapsed": false
   },
   "outputs": [
    {
     "name": "stdout",
     "output_type": "stream",
     "text": [
      "Help on function docLabels in module topics:\n",
      "\n",
      "docLabels(path)\n",
      "    Create a list of names (of the files) using paths and return a\n",
      "    list.\n",
      "    \n",
      "    Args:\n",
      "        path (str): Path/glob pattern of the text files to process.\n",
      "    \n",
      "    Author:\n",
      "        DARIAH-DE\n",
      "\n"
     ]
    }
   ],
   "source": [
    "help(tp.docLabels)"
   ]
  },
  {
   "cell_type": "markdown",
   "metadata": {},
   "source": [
    "### 3. Preprocessing"
   ]
  },
  {
   "cell_type": "markdown",
   "metadata": {},
   "source": [
    "To compute a reliable result, you have to preprocess the documents before creating a model. \n",
    "\n",
    "Tokenization, also called word segmentation, is the process of finding word boundaries - in its simplest form, by using the blanks in-between words as delimiters. This is exactly what you do now using `tp.tokenize`."
   ]
  },
  {
   "cell_type": "code",
   "execution_count": 6,
   "metadata": {
    "collapsed": true
   },
   "outputs": [],
   "source": [
    "texts = tp.tokenize(documents)"
   ]
  },
  {
   "cell_type": "markdown",
   "metadata": {},
   "source": [
    "Removing hapax legomena. A hapax legomenon is a single word that occurs only once in a text."
   ]
  },
  {
   "cell_type": "code",
   "execution_count": 7,
   "metadata": {
    "collapsed": true
   },
   "outputs": [],
   "source": [
    "texts = tp.removeHapaxLeg(texts)"
   ]
  },
  {
   "cell_type": "markdown",
   "metadata": {},
   "source": [
    "Removing stopwords. Stopwords might occure a thousand times in one document but will not be considered because of its semantic unimportance. Feel free to have a look at the stopwords lists in the folder **stopwords** within **helpful_stuff**.\n",
    "\n",
    "Before removing stopwords, make sure the parameter `stoplist` is set correctly to either 'en', 'de', 'es' or 'fr'."
   ]
  },
  {
   "cell_type": "code",
   "execution_count": 8,
   "metadata": {
    "collapsed": true
   },
   "outputs": [],
   "source": [
    "texts = tp.removeStopWords(texts, stoplist = 'en')"
   ]
  },
  {
   "cell_type": "markdown",
   "metadata": {},
   "source": [
    "### 4. Model creation"
   ]
  },
  {
   "cell_type": "markdown",
   "metadata": {},
   "source": [
    "Suspense builds: you can finally create the model using gensim functions. For more details have a look at the comments (marked with a #) in the code. If you are wondering: yes, this may take a while."
   ]
  },
  {
   "cell_type": "code",
   "execution_count": 9,
   "metadata": {
    "collapsed": false,
    "scrolled": true
   },
   "outputs": [],
   "source": [
    "from gensim import corpora, models\n",
    "# Specify number of topics\n",
    "no_of_topics = 10\n",
    "# Generate dictionary object\n",
    "dictionary = corpora.Dictionary(texts)\n",
    "# Generate corpus object\n",
    "corpus = [dictionary.doc2bow(text) for text in texts]\n",
    "# Generate model object\n",
    "model = models.LdaModel(corpus,\n",
    "    id2word = dictionary,\n",
    "    num_topics = no_of_topics,\n",
    "    passes = 10\n",
    "    )"
   ]
  },
  {
   "cell_type": "markdown",
   "metadata": {},
   "source": [
    "With `tp.topicLabels` you will create topic labels using the previously created model."
   ]
  },
  {
   "cell_type": "code",
   "execution_count": 10,
   "metadata": {
    "collapsed": true
   },
   "outputs": [],
   "source": [
    "topic_labels = tp.topicLabels(model, no_of_topics)"
   ]
  },
  {
   "cell_type": "markdown",
   "metadata": {},
   "source": [
    "Let's see what you have done: the generated topics will be printed out with the following statement."
   ]
  },
  {
   "cell_type": "code",
   "execution_count": 11,
   "metadata": {
    "collapsed": false,
    "scrolled": true
   },
   "outputs": [
    {
     "data": {
      "text/plain": [
       "[(9,\n",
       "  '0.008*will + 0.006*well + 0.006*great + 0.006*time + 0.006*man + 0.005*long + 0.005*course + 0.004*matter + 0.004*point + 0.004*thought'),\n",
       " (0,\n",
       "  '0.036*will + 0.033*man + 0.025*head + 0.025*time + 0.017*things + 0.017*told + 0.017*long + 0.016*good + 0.016*men + 0.016*night'),\n",
       " (5,\n",
       "  '0.019*holmes + 0.019*man + 0.017*will + 0.011*time + 0.011*room + 0.010*well + 0.010*asked + 0.010*face + 0.009*hand + 0.009*great'),\n",
       " (8,\n",
       "  '0.038*man + 0.018*small + 0.018*well + 0.018*holmes + 0.017*time + 0.017*hand + 0.015*will + 0.015*night + 0.014*don + 0.014*face'),\n",
       " (2,\n",
       "  '0.062*house + 0.041*street + 0.020*door + 0.019*thing + 0.019*time + 0.015*years + 0.014*family + 0.014*half + 0.013*great + 0.013*ground')]"
      ]
     },
     "execution_count": 11,
     "metadata": {},
     "output_type": "execute_result"
    }
   ],
   "source": [
    "model.show_topics(num_topics = 5)"
   ]
  },
  {
   "cell_type": "markdown",
   "metadata": {},
   "source": [
    "To save the gensim output in the folder **out** within **Topics**, but this is not necessary to visualize the model:"
   ]
  },
  {
   "cell_type": "code",
   "execution_count": 12,
   "metadata": {
    "collapsed": false
   },
   "outputs": [
    {
     "name": "stdout",
     "output_type": "stream",
     "text": [
      "saving ...\n",
      "\n"
     ]
    }
   ],
   "source": [
    "tp.saveGensimModel(model, corpus, dictionary, no_of_topics, doc_labels)"
   ]
  },
  {
   "cell_type": "markdown",
   "metadata": {},
   "source": [
    "### 5. The document-topic matrix"
   ]
  },
  {
   "cell_type": "markdown",
   "metadata": {},
   "source": [
    "As one of the last steps you will create a doc-topic matrix from the gensim objects. In its basics the doc-topic matrix describes the frequency of topics that occur in your collection of documents. "
   ]
  },
  {
   "cell_type": "code",
   "execution_count": 13,
   "metadata": {
    "collapsed": false
   },
   "outputs": [],
   "source": [
    "doc_topic = tp.gensim_to_dtm(model, corpus, no_of_topics)"
   ]
  },
  {
   "cell_type": "markdown",
   "metadata": {},
   "source": [
    "### 6. Document-topic heatmap"
   ]
  },
  {
   "cell_type": "markdown",
   "metadata": {},
   "source": [
    "`tp.docTopHeatmap` finally visualizes the model and shows a [heatmap](https://en.wikipedia.org/wiki/Heat_map)."
   ]
  },
  {
   "cell_type": "code",
   "execution_count": 14,
   "metadata": {
    "collapsed": false
   },
   "outputs": [
    {
     "data": {
      "image/png": "[encoded data removed]",
      "text/plain": [
       "<matplotlib.figure.Figure at 0x10bab0c18>"
      ]
     },
     "metadata": {},
     "output_type": "display_data"
    }
   ],
   "source": [
    "tp.docTopHeatmap(doc_topic, doc_labels, topic_labels)"
   ]
  }
 ],
 "metadata": {
  "kernelspec": {
   "display_name": "Python 3",
   "language": "python",
   "name": "python3"
  },
  "language_info": {
   "codemirror_mode": {
    "name": "ipython",
    "version": 3
   },
   "file_extension": ".py",
   "mimetype": "text/x-python",
   "name": "python",
   "nbconvert_exporter": "python",
   "pygments_lexer": "ipython3",
   "version": "3.5.2"
  }
 },
 "nbformat": 4,
 "nbformat_minor": 0
}
